{
 "cells": [
  {
   "cell_type": "markdown",
   "metadata": {},
   "source": [
    "# WeatherPy\n",
    "----\n",
    "\n",
    "#### Note\n",
    "* Instructions have been included for each segment. You do not have to follow them exactly, but they are included to help you think through the steps."
   ]
  },
  {
   "cell_type": "code",
   "execution_count": 15,
   "metadata": {
    "scrolled": true
   },
   "outputs": [],
   "source": [
    "#Import citypy and random modules to make city list\n",
    "\n",
    "from citipy import citipy\n",
    "import random\n",
    "\n",
    "#import modules to make and export API call\n",
    "from api_keys import weather_api_key\n",
    "import requests\n",
    "import json\n",
    "\n",
    "\n",
    "\n",
    "#Import modules to create graphs of data\n",
    "import matplotlib.pyplot as plt\n",
    "import pandas as pd\n",
    "import scipy.stats as st\n",
    "from scipy.stats import linregress\n",
    "import numpy as np\n",
    "\n",
    "\n"
   ]
  },
  {
   "cell_type": "markdown",
   "metadata": {},
   "source": [
    "## Generate Cities List"
   ]
  },
  {
   "cell_type": "code",
   "execution_count": 16,
   "metadata": {},
   "outputs": [],
   "source": [
    "#Generate 500 random longitudes\n",
    "randomlong = []\n",
    "for i in range(0,600):\n",
    "    n = random.randint(-180,80)\n",
    "    randomlong.append(n)\n",
    "\n",
    "#Generate 500 random Latitudes\n",
    "randomlat = []\n",
    "for i in range(0,600):\n",
    "    n = random.randint(-60,80)\n",
    "    randomlat.append(n)\n",
    "\n",
    "#Loop through lat/Long to identify cities with citypy\n",
    "cities = []\n",
    "for lat, long in zip(randomlat, randomlong):\n",
    "    city = citipy.nearest_city(lat, long)\n",
    "    if city not in cities:\n",
    "        cities.append(city.city_name)\n"
   ]
  },
  {
   "cell_type": "markdown",
   "metadata": {},
   "source": [
    "### Perform API Calls\n",
    "* Perform a weather check on each city using a series of successive API calls.\n",
    "* Include a print log of each city as it'sbeing processed (with the city number and city name).\n"
   ]
  },
  {
   "cell_type": "code",
   "execution_count": 17,
   "metadata": {
    "scrolled": true
   },
   "outputs": [
    {
     "name": "stdout",
     "output_type": "stream",
     "text": [
      "{\n",
      "    \"base\": \"stations\",\n",
      "    \"clouds\": {\n",
      "        \"all\": 90\n",
      "    },\n",
      "    \"cod\": 200,\n",
      "    \"coord\": {\n",
      "        \"lat\": -33.918,\n",
      "        \"lon\": 25.5701\n",
      "    },\n",
      "    \"dt\": 1610600047,\n",
      "    \"id\": 964420,\n",
      "    \"main\": {\n",
      "        \"feels_like\": 66.88,\n",
      "        \"humidity\": 100,\n",
      "        \"pressure\": 1012,\n",
      "        \"temp\": 68,\n",
      "        \"temp_max\": 68,\n",
      "        \"temp_min\": 68\n",
      "    },\n",
      "    \"name\": \"Port Elizabeth\",\n",
      "    \"sys\": {\n",
      "        \"country\": \"ZA\",\n",
      "        \"id\": 1973,\n",
      "        \"sunrise\": 1610594483,\n",
      "        \"sunset\": 1610645505,\n",
      "        \"type\": 1\n",
      "    },\n",
      "    \"timezone\": 7200,\n",
      "    \"visibility\": 8000,\n",
      "    \"weather\": [\n",
      "        {\n",
      "            \"description\": \"overcast clouds\",\n",
      "            \"icon\": \"04d\",\n",
      "            \"id\": 804,\n",
      "            \"main\": \"Clouds\"\n",
      "        }\n",
      "    ],\n",
      "    \"wind\": {\n",
      "        \"deg\": 80,\n",
      "        \"speed\": 13.8\n",
      "    }\n",
      "}\n"
     ]
    }
   ],
   "source": [
    "#Loop over Cities using series of API calls. \n",
    "#Testing one city\n",
    "url = \"http://api.openweathermap.org/data/2.5/weather?units=Imperial&APPID=\" + weather_api_key\n",
    "\n",
    "# append firt city from list to url\n",
    "city_url = url + \"&q=\" + cities[0]\n",
    "\n",
    "# Make API call in Json Format\n",
    "response_single = requests.get(city_url).json()\n",
    "\n",
    "print(json.dumps(response_single, indent=4, sort_keys=True))\n",
    "\n"
   ]
  },
  {
   "cell_type": "code",
   "execution_count": 19,
   "metadata": {
    "scrolled": true
   },
   "outputs": [
    {
     "name": "stdout",
     "output_type": "stream",
     "text": [
      "{'City': ['port elizabeth', 'cape town', 'atuona', 'flin flon', 'arraial do cabo', 'warqla', 'thinadhoo', 'thompson', 'puerto ayora'], 'Latitude': [-33.92, -33.93, -9.8, 54.77, -22.97, 0.53, 55.74, -0.74, 69.45], 'Temperature': [], 'Humidity': [], 'Cloudiness': [], 'Wind Speed': []}\n"
     ]
    }
   ],
   "source": [
    "#Smaller subset for simplicity\n",
    "cities_small = cities[0:10]\n",
    "\n",
    "\n",
    "city_lat = []\n",
    "city_long = []\n",
    "\n",
    "temp = []\n",
    "humidity = [] \n",
    "cloudiness = []\n",
    "wind_speed = []\n",
    "\n",
    "for city in cities_small:\n",
    "        try:\n",
    "            response = requests.get(url + \"&q=\"+ city).json()\n",
    "            city_lat.append(round(response[\"coord\"][\"lat\"],2))\n",
    "            city_long.append(round(response[\"coord\"][\"long\"],2))\n",
    "            \n",
    "            temp.append(response[\"main\"][\"temp_max\"])\n",
    "            humidity.append(response[\"main\"][\"humidity\"])\n",
    "            cloudiness.append(response[\"clouds\"][\"all\"])\n",
    "            wind_speed.append(response[\"wind\"][\"speed\"])\n",
    "            \n",
    "            print(f\"The weather stats for the city of {city}, of lat {response['coord']['lat']} are: max temp({response['main']['temp_max']}),humidity({response['main']['humidity']}),cloudiness({response['clouds']['all']}) and windspeed({response['wind']['speed']})\")\n",
    "            print(\"------------------------------------------------------\")\n",
    "            print(len(city_lat))\n",
    "\n",
    "        except:\n",
    "            \"Exception\"\n",
    "\n",
    "weather_dict = {\n",
    "    \"City\": cities_small[0:len(city_lat)],\n",
    "    \"Latitude\":city_lat,\n",
    "\n",
    "    \"Temperature\": temp,\n",
    "    \"Humidity\": humidity,\n",
    "    \"Cloudiness\": cloudiness,\n",
    "    \"Wind Speed\": wind_speed}\n",
    "\n",
    "#print(weather_dict)\n",
    "#weather_data = pd.DataFrame(weather_dict)\n",
    "#print(weather_data.head())       \n"
   ]
  },
  {
   "cell_type": "markdown",
   "metadata": {},
   "source": [
    "### Convert Raw Data to DataFrame\n",
    "* Export the city data into a .csv.\n",
    "* Display the DataFrame"
   ]
  },
  {
   "cell_type": "code",
   "execution_count": null,
   "metadata": {},
   "outputs": [],
   "source": [
    "print(weather_data)\n",
    "#Write df to csv\n",
    "weather_data.to_csv(\"City_Data/city_data.csv\", index=False, header=True)\n"
   ]
  },
  {
   "cell_type": "code",
   "execution_count": null,
   "metadata": {},
   "outputs": [],
   "source": []
  },
  {
   "cell_type": "markdown",
   "metadata": {},
   "source": [
    "## Inspect the data and remove the cities where the humidity > 100%.\n",
    "----\n",
    "Skip this step if there are no cities that have humidity > 100%. "
   ]
  },
  {
   "cell_type": "code",
   "execution_count": null,
   "metadata": {},
   "outputs": [],
   "source": [
    "#Choose Cities with humidity below 100\n",
    "clean_city_data = weather_data.loc[(weather_data[\"Humidity\"] < 100)]\n",
    "clean_city_data.head()"
   ]
  },
  {
   "cell_type": "markdown",
   "metadata": {},
   "source": [
    "## Plotting the Data\n",
    "* Use proper labeling of the plots using plot titles (including date of analysis) and axes labels.\n",
    "* Save the plotted figures as .pngs."
   ]
  },
  {
   "cell_type": "markdown",
   "metadata": {},
   "source": [
    "## Latitude vs. Temperature Plot"
   ]
  },
  {
   "cell_type": "code",
   "execution_count": null,
   "metadata": {
    "scrolled": true
   },
   "outputs": [],
   "source": [
    "def make_scatter(x, y, title, xlab,ylab):\n",
    "    (slope, intercept, rvalue, pvalue, stderr) = linregress(x, y)\n",
    "    regress_values = x * slope + intercept\n",
    "    line_eq = \"y = \" + str(round(slope,2)) + \"x + \" + str(round(intercept,2))\n",
    "    x_limit = 80\n",
    "    x_axis = np.arange(-60, x_limit, 1)\n",
    "    plt.scatter(x, y, marker=\"o\", facecolors=\"blue\", edgecolors=\"black\",alpha=0.75)\n",
    "    plt.grid(b=None, which='major', axis='both')\n",
    "    plt.plot(x,regress_values,\"r-\")\n",
    "    plt.annotate(line_eq,(6,10),fontsize=15,color=\"red\")\n",
    "    plt.title(title)\n",
    "    plt.xlabel(xlab)\n",
    "    plt.ylabel(ylab)\n",
    "    print(f\"The r-squared value is: {round(rvalue**2,4)}\")\n",
    "    plt.show()\n",
    "    \n",
    "    # Print out the r-squared value along with the plot.\n",
    "\n",
    "make_scatter(clean_city_data[\"Latitude\"],clean_city_data[\"Temperature\"],\"Latitude vs Max Temperature(F) (13/01/20)\",\"Latitude\",\"Max Temperature(F)\")\n",
    "\n",
    "print(\"The r value and regression line indicate a moderate relationship between Latitude and Max Temp with latitudes further from the equator (0) having a reduced maximum temperature \")\n"
   ]
  },
  {
   "cell_type": "markdown",
   "metadata": {},
   "source": [
    "## Latitude vs. Humidity Plot"
   ]
  },
  {
   "cell_type": "code",
   "execution_count": null,
   "metadata": {},
   "outputs": [],
   "source": [
    "make_scatter(clean_city_data[\"Latitude\"],clean_city_data[\"Humidity\"],\"Latitude vs Humidity (13/01/20)\",\"Latitude\",\"Humidity(%)\")\n",
    "print(\"The r value and regression line indicate a extremely weak relationship between Latitude and Humidity and visually the data does not seem to show a trend.\"\n"
   ]
  },
  {
   "cell_type": "markdown",
   "metadata": {},
   "source": [
    "## Latitude vs. Cloudiness Plot"
   ]
  },
  {
   "cell_type": "code",
   "execution_count": null,
   "metadata": {},
   "outputs": [],
   "source": [
    "make_scatter(clean_city_data[\"Latitude\"],clean_city_data[\"Cloudiness\"],\"Latitude vs Cloudiness(%) (13/01/20)\",\"Latitude\",\"Cloudiness(%)\")\n",
    "print(\"The r value and regression line indicate a fairly weak relationship between Latitude and Cloudiness with some gradient in the regression but visually very little trend\")\n"
   ]
  },
  {
   "cell_type": "markdown",
   "metadata": {},
   "source": [
    "## Latitude vs. Wind Speed Plot"
   ]
  },
  {
   "cell_type": "code",
   "execution_count": null,
   "metadata": {},
   "outputs": [],
   "source": [
    "make_scatter(clean_city_data[\"Latitude\"],clean_city_data[\"Wind Speed\"],\"Latitude vs Wind Speed(mph) (13/01/20)\",\"Latitude\",\"Wind Speed (mph)\")\n",
    "print(\"The r value and regression line indicate a extremely weak relationship between Latitude and Wind Speed, and visually the data does not seem to show a trend.\")\n"
   ]
  },
  {
   "cell_type": "markdown",
   "metadata": {},
   "source": [
    "## Linear Regression"
   ]
  },
  {
   "cell_type": "code",
   "execution_count": null,
   "metadata": {},
   "outputs": [],
   "source": [
    "North_Hemi_Df = clean_city_data.loc[(clean_city_data[\"Latitude\"] >= 0)]\n",
    "South_Hemi_Df = clean_city_data.loc[(clean_city_data[\"Latitude\"] < 0)]"
   ]
  },
  {
   "cell_type": "markdown",
   "metadata": {},
   "source": [
    "####  Northern Hemisphere - Max Temp vs. Latitude Linear Regression"
   ]
  },
  {
   "cell_type": "code",
   "execution_count": null,
   "metadata": {},
   "outputs": [],
   "source": [
    "make_scatter(North_Hemi_Df[\"Latitude\"],North_Hemi_Df[\"Temperature\"],\"Latitude vs Max Temperature(F) (13/01/20)\",\"Latitude\",\"Max Temperature(F)\")\n",
    "print(\"The r value and regression line indicate a strong negative relationship between Latitude and Max Temp within the northern hemisphere, with a reduced max temp as distance from equator increases.\")\n"
   ]
  },
  {
   "cell_type": "markdown",
   "metadata": {},
   "source": [
    "####  Southern Hemisphere - Max Temp vs. Latitude Linear Regression"
   ]
  },
  {
   "cell_type": "code",
   "execution_count": null,
   "metadata": {},
   "outputs": [],
   "source": [
    "make_scatter(South_Hemi_Df[\"Latitude\"],South_Hemi_Df[\"Temperature\"],\"Latitude vs Max Temperature(F) (13/01/20)\",\"Latitude\",\"Max Temperature(F)\")\n",
    "print(\"The r value and regression line indicate a moderate to weak positive relationship between Latitude and Max Temp within the Southern Hemisphere, with a slight trend toward warmer temps closer to the equator.\")\n"
   ]
  },
  {
   "cell_type": "markdown",
   "metadata": {},
   "source": [
    "####  Northern Hemisphere - Humidity (%) vs. Latitude Linear Regression"
   ]
  },
  {
   "cell_type": "code",
   "execution_count": null,
   "metadata": {},
   "outputs": [],
   "source": [
    "make_scatter(North_Hemi_Df[\"Latitude\"],North_Hemi_Df[\"Humidity\"],\"Latitude vs Humidity (13/01/20)\",\"Latitude\",\"Humidity(%)\")\n",
    "print(\"The r value and regression line indicate a moderate to weak positive relationship between Latitude and Humidity within the Northern Hemisphere, with a slight trend toward higher humidity levels further from the equator.\")\n"
   ]
  },
  {
   "cell_type": "markdown",
   "metadata": {},
   "source": [
    "####  Southern Hemisphere - Humidity (%) vs. Latitude Linear Regression"
   ]
  },
  {
   "cell_type": "code",
   "execution_count": null,
   "metadata": {},
   "outputs": [],
   "source": [
    "make_scatter(South_Hemi_Df[\"Latitude\"],South_Hemi_Df[\"Humidity\"],\"Latitude vs Humidity (13/01/20)\",\"Latitude\",\"Humidity(%)\")\n",
    "print(\"The r value and regression line indicate a moderate to weak positive relationship between Latitude and Humidity within the Southern Hemisphere, with a slight trend toward higher humidity levels closer to the equator.\")\n"
   ]
  },
  {
   "cell_type": "markdown",
   "metadata": {},
   "source": [
    "####  Northern Hemisphere - Cloudiness (%) vs. Latitude Linear Regression"
   ]
  },
  {
   "cell_type": "code",
   "execution_count": null,
   "metadata": {},
   "outputs": [],
   "source": [
    "make_scatter(North_Hemi_Df[\"Latitude\"],North_Hemi_Df[\"Cloudiness\"],\"Latitude vs Cloudiness(%) (13/01/20)\",\"Latitude\",\"Cloudiness(%)\")\n",
    "print(\"The r value and regression line indicate a weak relationship between Latitude and Cloudiness within the Northern Hemisphere with some gradient in the regression indicating higher cloud cover further from equator but visually very little trend\")\n"
   ]
  },
  {
   "cell_type": "markdown",
   "metadata": {},
   "source": [
    "####  Southern Hemisphere - Cloudiness (%) vs. Latitude Linear Regression"
   ]
  },
  {
   "cell_type": "code",
   "execution_count": null,
   "metadata": {},
   "outputs": [],
   "source": [
    "make_scatter(South_Hemi_Df[\"Latitude\"],South_Hemi_Df[\"Cloudiness\"],\"Latitude vs Cloudiness(%) (13/01/20)\",\"Latitude\",\"Cloudiness(%)\")\n",
    "print(\"The r value and regression line indicate a moderate to weak relationship between Latitude and Cloudiness within the Southern hemisphere with some gradient in the regression indicating higher cloud cover closer to the equator.\")\n"
   ]
  },
  {
   "cell_type": "markdown",
   "metadata": {},
   "source": [
    "####  Northern Hemisphere - Wind Speed (mph) vs. Latitude Linear Regression"
   ]
  },
  {
   "cell_type": "code",
   "execution_count": null,
   "metadata": {},
   "outputs": [],
   "source": [
    "make_scatter(North_Hemi_Df[\"Latitude\"],North_Hemi_Df[\"Wind Speed\"],\"Latitude vs Wind Speed(mph) (13/01/20)\",\"Latitude\",\"Wind Speed (mph)\")\n",
    "print(\"The r value and regression line indicate a relationship between Latitude and Wind Speed within the Norther Hemisphere, with a very slight positive trend indicating greater wind speed further from equator\")\n"
   ]
  },
  {
   "cell_type": "markdown",
   "metadata": {},
   "source": [
    "####  Southern Hemisphere - Wind Speed (mph) vs. Latitude Linear Regression"
   ]
  },
  {
   "cell_type": "code",
   "execution_count": null,
   "metadata": {},
   "outputs": [],
   "source": [
    "make_scatter(South_Hemi_Df[\"Latitude\"],South_Hemi_Df[\"Wind Speed\"],\"Latitude vs Wind Speed(mph) (13/01/20)\",\"Latitude\",\"Wind Speed (mph)\")\n",
    "print(\"The r value and regression line indicate a extremely weak relationship between Latitude and Wind Speed within the southern hemisphere, with a very slight negative relationship indicating slightly reduced wind speed closer to equator.\")\n"
   ]
  },
  {
   "cell_type": "code",
   "execution_count": null,
   "metadata": {},
   "outputs": [],
   "source": []
  }
 ],
 "metadata": {
  "anaconda-cloud": {},
  "kernel_info": {
   "name": "python3"
  },
  "kernelspec": {
   "display_name": "Python [conda env:PythonData] *",
   "language": "python",
   "name": "conda-env-PythonData-py"
  },
  "language_info": {
   "codemirror_mode": {
    "name": "ipython",
    "version": 3
   },
   "file_extension": ".py",
   "mimetype": "text/x-python",
   "name": "python",
   "nbconvert_exporter": "python",
   "pygments_lexer": "ipython3",
   "version": "3.6.10"
  },
  "latex_envs": {
   "LaTeX_envs_menu_present": true,
   "autoclose": false,
   "autocomplete": true,
   "bibliofile": "biblio.bib",
   "cite_by": "apalike",
   "current_citInitial": 1,
   "eqLabelWithNumbers": true,
   "eqNumInitial": 1,
   "hotkeys": {
    "equation": "Ctrl-E",
    "itemize": "Ctrl-I"
   },
   "labels_anchors": false,
   "latex_user_defs": false,
   "report_style_numbering": false,
   "user_envs_cfg": false
  },
  "nteract": {
   "version": "0.12.3"
  }
 },
 "nbformat": 4,
 "nbformat_minor": 2
}
